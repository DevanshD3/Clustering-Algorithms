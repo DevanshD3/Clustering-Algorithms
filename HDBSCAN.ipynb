{
  "nbformat": 4,
  "nbformat_minor": 0,
  "metadata": {
    "colab": {
      "name": "HDBSCAN.ipynb",
      "provenance": [],
      "authorship_tag": "ABX9TyPMvTxdo3rtdHW0ElDkqYy0",
      "include_colab_link": true
    },
    "kernelspec": {
      "name": "python3",
      "display_name": "Python 3"
    },
    "language_info": {
      "name": "python"
    }
  },
  "cells": [
    {
      "cell_type": "markdown",
      "metadata": {
        "id": "view-in-github",
        "colab_type": "text"
      },
      "source": [
        "<a href=\"https://colab.research.google.com/github/DevanshD3/Clustering-Algorithms/blob/main/HDBSCAN.ipynb\" target=\"_parent\"><img src=\"https://colab.research.google.com/assets/colab-badge.svg\" alt=\"Open In Colab\"/></a>"
      ]
    },
    {
      "cell_type": "code",
      "metadata": {
        "id": "AmRSYZUsmIrL"
      },
      "source": [
        "import pandas as pd\n",
        "import numpy as np\n",
        "import sklearn\n",
        "from sklearn.feature_extraction.text import TfidfVectorizer\n",
        "from sklearn.cluster import DBSCAN\n",
        "from sklearn.decomposition import PCA\n",
        "import matplotlib.pyplot as plt\n",
        "from numpy import unique\n",
        "import seaborn as sns\n",
        "pal = sns.color_palette('deep', 8)"
      ],
      "execution_count": null,
      "outputs": []
    },
    {
      "cell_type": "code",
      "metadata": {
        "colab": {
          "base_uri": "https://localhost:8080/"
        },
        "id": "v4T498VBnZn-",
        "outputId": "cde63791-9a8c-4e3a-c567-2f0fe46257f8"
      },
      "source": [
        "from google.colab import drive\n",
        "drive.mount('/content/drive')"
      ],
      "execution_count": null,
      "outputs": [
        {
          "output_type": "stream",
          "text": [
            "Mounted at /content/drive\n"
          ],
          "name": "stdout"
        }
      ]
    },
    {
      "cell_type": "code",
      "metadata": {
        "colab": {
          "base_uri": "https://localhost:8080/",
          "height": 202
        },
        "id": "xXe-SKXKnjgN",
        "outputId": "2d1f6e25-7576-49b0-b885-e1d15b4d73da"
      },
      "source": [
        "from sklearn.datasets import load_files\n",
        "\n",
        "# for reproducibility\n",
        "random_state = 0 \n",
        "\n",
        "DATA_DIR = \"/content/drive/MyDrive/Data/CV.csv\"\n",
        "df = pd.read_csv(DATA_DIR, low_memory= False)\n",
        "df.head()"
      ],
      "execution_count": null,
      "outputs": [
        {
          "output_type": "execute_result",
          "data": {
            "text/html": [
              "<div>\n",
              "<style scoped>\n",
              "    .dataframe tbody tr th:only-of-type {\n",
              "        vertical-align: middle;\n",
              "    }\n",
              "\n",
              "    .dataframe tbody tr th {\n",
              "        vertical-align: top;\n",
              "    }\n",
              "\n",
              "    .dataframe thead th {\n",
              "        text-align: right;\n",
              "    }\n",
              "</style>\n",
              "<table border=\"1\" class=\"dataframe\">\n",
              "  <thead>\n",
              "    <tr style=\"text-align: right;\">\n",
              "      <th></th>\n",
              "      <th>Author ID</th>\n",
              "      <th>Modified Description</th>\n",
              "      <th>ID</th>\n",
              "    </tr>\n",
              "  </thead>\n",
              "  <tbody>\n",
              "    <tr>\n",
              "      <th>0</th>\n",
              "      <td>27348</td>\n",
              "      <td>Simple latch with two cross-coupled NOR gates.</td>\n",
              "      <td>137750</td>\n",
              "    </tr>\n",
              "    <tr>\n",
              "      <th>1</th>\n",
              "      <td>47272</td>\n",
              "      <td>Laboratorio. Sesión 3.FUNDAMENTOS DE COMPUTADORES</td>\n",
              "      <td>229813</td>\n",
              "    </tr>\n",
              "    <tr>\n",
              "      <th>2</th>\n",
              "      <td>36805</td>\n",
              "      <td>This is a 7 segment display.</td>\n",
              "      <td>249268</td>\n",
              "    </tr>\n",
              "    <tr>\n",
              "      <th>3</th>\n",
              "      <td>36489</td>\n",
              "      <td>Este bloque les servirá para el examen parcial</td>\n",
              "      <td>232819</td>\n",
              "    </tr>\n",
              "    <tr>\n",
              "      <th>4</th>\n",
              "      <td>30771</td>\n",
              "      <td>The external clock is directly connected to al...</td>\n",
              "      <td>249264</td>\n",
              "    </tr>\n",
              "  </tbody>\n",
              "</table>\n",
              "</div>"
            ],
            "text/plain": [
              "   Author ID                               Modified Description      ID\n",
              "0      27348     Simple latch with two cross-coupled NOR gates.  137750\n",
              "1      47272  Laboratorio. Sesión 3.FUNDAMENTOS DE COMPUTADORES  229813\n",
              "2      36805                       This is a 7 segment display.  249268\n",
              "3      36489     Este bloque les servirá para el examen parcial  232819\n",
              "4      30771  The external clock is directly connected to al...  249264"
            ]
          },
          "metadata": {
            "tags": []
          },
          "execution_count": 3
        }
      ]
    },
    {
      "cell_type": "code",
      "metadata": {
        "colab": {
          "base_uri": "https://localhost:8080/"
        },
        "id": "t6wkei4lnOzx",
        "outputId": "fe5c39be-18d8-418f-e5ac-275e25852467"
      },
      "source": [
        "vec = TfidfVectorizer(stop_words='english')\n",
        "df['Modified Description'] = df['Modified Description'].fillna('')\n",
        "vec_matrix = vec.fit_transform(df['Modified Description'])\n",
        "features = vec.transform(df['Modified Description'])\n",
        "print(features)"
      ],
      "execution_count": null,
      "outputs": [
        {
          "output_type": "stream",
          "text": [
            "  (0, 9931)\t0.3227931164197924\n",
            "  (0, 6506)\t0.40802933946806075\n",
            "  (0, 5173)\t0.25773776809552934\n",
            "  (0, 3263)\t0.5611565857574715\n",
            "  (0, 3210)\t0.5899077820163157\n",
            "  (1, 9795)\t0.5201365271425246\n",
            "  (1, 6467)\t0.42967167566533615\n",
            "  (1, 5089)\t0.5634737543685681\n",
            "  (1, 2935)\t0.476799299916481\n",
            "  (2, 9670)\t0.7430862931318738\n",
            "  (2, 3940)\t0.6691956073970681\n",
            "  (3, 9791)\t0.4550963892643165\n",
            "  (3, 8092)\t0.36461795716737266\n",
            "  (3, 8082)\t0.244302462048003\n",
            "  (3, 6588)\t0.3533498829631091\n",
            "  (3, 4595)\t0.39183564968111356\n",
            "  (3, 4539)\t0.3236684347770153\n",
            "  (3, 4269)\t0.26231346757082874\n",
            "  (3, 2196)\t0.3850927183625514\n",
            "  (4, 11477)\t0.14436558388169132\n",
            "  (4, 10812)\t0.1821684703326401\n",
            "  (4, 10764)\t0.12804152439100075\n",
            "  (4, 10465)\t0.14092347226783963\n",
            "  (4, 10225)\t0.13382659950075762\n",
            "  (4, 9902)\t0.1595904952544354\n",
            "  :\t:\n",
            "  (6028, 11637)\t0.832091666124507\n",
            "  (6028, 5150)\t0.5546381335304505\n",
            "  (6029, 10118)\t0.5142487328997064\n",
            "  (6029, 9847)\t0.5142487328997064\n",
            "  (6029, 4215)\t0.34623771748932497\n",
            "  (6029, 315)\t0.2945575752224373\n",
            "  (6029, 85)\t0.5142487328997064\n",
            "  (6030, 6706)\t0.23741969731294338\n",
            "  (6030, 3755)\t0.4197212551602079\n",
            "  (6030, 748)\t0.4901389083233701\n",
            "  (6030, 411)\t0.5456115455856987\n",
            "  (6030, 402)\t0.47910108240926585\n",
            "  (6031, 11845)\t0.8270278138984715\n",
            "  (6031, 10687)\t0.5621610045514674\n",
            "  (6032, 8493)\t1.0\n",
            "  (6033, 7525)\t0.2098247538258764\n",
            "  (6033, 5978)\t0.6393074356928544\n",
            "  (6033, 3926)\t0.48749794472198554\n",
            "  (6033, 2693)\t0.36109511406561984\n",
            "  (6033, 2687)\t0.4233386916400554\n",
            "  (6034, 11277)\t0.4388297041481269\n",
            "  (6034, 9523)\t0.4595027052541706\n",
            "  (6034, 8378)\t0.4388297041481269\n",
            "  (6034, 6344)\t0.4388297041481269\n",
            "  (6034, 3377)\t0.4595027052541706\n"
          ],
          "name": "stdout"
        }
      ]
    },
    {
      "cell_type": "code",
      "metadata": {
        "colab": {
          "base_uri": "https://localhost:8080/",
          "height": 713
        },
        "id": "Tshu0I3_o03X",
        "outputId": "c70fe141-3820-426f-dc45-309fd89520ab"
      },
      "source": [
        "# need to upgrade numpy for hdbscan\n",
        "!pip install numpy==1.16.0\n",
        "\n",
        "# install this first before hdbscan\n",
        "!pip install Cython\n",
        "\n",
        "!pip install hdbscan\n",
        "\n",
        "import hdbscan\n"
      ],
      "execution_count": null,
      "outputs": [
        {
          "output_type": "stream",
          "text": [
            "Collecting numpy==1.16.0\n",
            "\u001b[?25l  Downloading https://files.pythonhosted.org/packages/3d/10/62224c551acfd3a3583ad16d1e0f1c9e9c333e74479dc51977c31836119c/numpy-1.16.0-cp37-cp37m-manylinux1_x86_64.whl (17.3MB)\n",
            "\u001b[K     |████████████████████████████████| 17.3MB 205kB/s \n",
            "\u001b[31mERROR: umap-learn 0.5.1 has requirement numpy>=1.17, but you'll have numpy 1.16.0 which is incompatible.\u001b[0m\n",
            "\u001b[31mERROR: tensorflow 2.4.1 has requirement numpy~=1.19.2, but you'll have numpy 1.16.0 which is incompatible.\u001b[0m\n",
            "\u001b[31mERROR: pyarrow 3.0.0 has requirement numpy>=1.16.6, but you'll have numpy 1.16.0 which is incompatible.\u001b[0m\n",
            "\u001b[31mERROR: datascience 0.10.6 has requirement folium==0.2.1, but you'll have folium 0.8.3 which is incompatible.\u001b[0m\n",
            "\u001b[31mERROR: astropy 4.2 has requirement numpy>=1.17, but you'll have numpy 1.16.0 which is incompatible.\u001b[0m\n",
            "\u001b[31mERROR: albumentations 0.1.12 has requirement imgaug<0.2.7,>=0.2.5, but you'll have imgaug 0.2.9 which is incompatible.\u001b[0m\n",
            "\u001b[?25hInstalling collected packages: numpy\n",
            "  Found existing installation: numpy 1.19.5\n",
            "    Uninstalling numpy-1.19.5:\n",
            "      Successfully uninstalled numpy-1.19.5\n",
            "Successfully installed numpy-1.16.0\n"
          ],
          "name": "stdout"
        },
        {
          "output_type": "display_data",
          "data": {
            "application/vnd.colab-display-data+json": {
              "pip_warning": {
                "packages": [
                  "numpy"
                ]
              }
            }
          },
          "metadata": {
            "tags": []
          }
        },
        {
          "output_type": "stream",
          "text": [
            "Requirement already satisfied: Cython in /usr/local/lib/python3.7/dist-packages (0.29.22)\n",
            "Collecting hdbscan\n",
            "\u001b[?25l  Downloading https://files.pythonhosted.org/packages/32/bb/59a75bc5ac66a9b4f9b8f979e4545af0e98bb1ca4e6ae96b3b956b554223/hdbscan-0.8.27.tar.gz (6.4MB)\n",
            "\u001b[K     |████████████████████████████████| 6.4MB 7.0MB/s \n",
            "\u001b[?25h  Installing build dependencies ... \u001b[?25l\u001b[?25hdone\n",
            "  Getting requirements to build wheel ... \u001b[?25l\u001b[?25hdone\n",
            "    Preparing wheel metadata ... \u001b[?25l\u001b[?25hdone\n",
            "Requirement already satisfied: scipy>=1.0 in /usr/local/lib/python3.7/dist-packages (from hdbscan) (1.4.1)\n",
            "Requirement already satisfied: cython>=0.27 in /usr/local/lib/python3.7/dist-packages (from hdbscan) (0.29.22)\n",
            "Requirement already satisfied: scikit-learn>=0.20 in /usr/local/lib/python3.7/dist-packages (from hdbscan) (0.22.2.post1)\n",
            "Requirement already satisfied: six in /usr/local/lib/python3.7/dist-packages (from hdbscan) (1.15.0)\n",
            "Requirement already satisfied: joblib>=1.0 in /usr/local/lib/python3.7/dist-packages (from hdbscan) (1.0.1)\n",
            "Requirement already satisfied: numpy>=1.16 in /usr/local/lib/python3.7/dist-packages (from hdbscan) (1.16.0)\n",
            "Building wheels for collected packages: hdbscan\n",
            "  Building wheel for hdbscan (PEP 517) ... \u001b[?25l\u001b[?25hdone\n",
            "  Created wheel for hdbscan: filename=hdbscan-0.8.27-cp37-cp37m-linux_x86_64.whl size=2311714 sha256=8cdef00329ef4394399b06e3750648232100f46feb089955fb725ddc015acdb0\n",
            "  Stored in directory: /root/.cache/pip/wheels/42/63/fb/314ad6c3b270887a3ecb588b8e5aac50b0fad38ff89bb6dff2\n",
            "Successfully built hdbscan\n",
            "Installing collected packages: hdbscan\n",
            "Successfully installed hdbscan-0.8.27\n"
          ],
          "name": "stdout"
        }
      ]
    },
    {
      "cell_type": "code",
      "metadata": {
        "colab": {
          "base_uri": "https://localhost:8080/"
        },
        "id": "LTqoM45wsSZ7",
        "outputId": "554c90ec-808c-4aaa-a5ea-7221d43d935a"
      },
      "source": [
        "# reduce the features to 2D\n",
        "pca = PCA(n_components=2, random_state=random_state)\n",
        "reduced_features = pca.fit_transform(features.toarray())\n",
        "clusterer = hdbscan.HDBSCAN(min_cluster_size=5, prediction_data = True,gen_min_span_tree=True)\n",
        "clusterer.fit(reduced_features)\n"
      ],
      "execution_count": null,
      "outputs": [
        {
          "output_type": "execute_result",
          "data": {
            "text/plain": [
              "HDBSCAN(algorithm='best', allow_single_cluster=False, alpha=1.0,\n",
              "        approx_min_span_tree=True, cluster_selection_epsilon=0.0,\n",
              "        cluster_selection_method='eom', core_dist_n_jobs=4,\n",
              "        gen_min_span_tree=True, leaf_size=40,\n",
              "        match_reference_implementation=False, memory=Memory(location=None),\n",
              "        metric='euclidean', min_cluster_size=5, min_samples=None, p=None,\n",
              "        prediction_data=True)"
            ]
          },
          "metadata": {
            "tags": []
          },
          "execution_count": 6
        }
      ]
    },
    {
      "cell_type": "code",
      "metadata": {
        "colab": {
          "base_uri": "https://localhost:8080/"
        },
        "id": "av_IRFsbs_F5",
        "outputId": "566e23c1-bbb5-4b41-ff39-580863621122"
      },
      "source": [
        "test_labels, strengths = hdbscan.approximate_predict(clusterer,reduced_features)\n",
        "strengths"
      ],
      "execution_count": null,
      "outputs": [
        {
          "output_type": "execute_result",
          "data": {
            "text/plain": [
              "array([0.        , 0.15222407, 1.        , ..., 0.        , 0.92785393,\n",
              "       0.        ])"
            ]
          },
          "metadata": {
            "tags": []
          },
          "execution_count": 7
        }
      ]
    },
    {
      "cell_type": "code",
      "metadata": {
        "colab": {
          "base_uri": "https://localhost:8080/",
          "height": 283
        },
        "id": "Y_fdTGKxvXsR",
        "outputId": "1705ab2f-3edf-41f7-8bb5-593ff04e8090"
      },
      "source": [
        "plot_kwds = {'alpha' : 0.5, 's' : 80, 'linewidths':0}\n",
        "\n",
        "pal = sns.color_palette('deep',len(clusterer.labels_))\n",
        "\n",
        "\n",
        "colors = [sns.desaturate(pal[col], sat) for col, sat in zip(clusterer.labels_,clusterer.probabilities_)]\n",
        "test_colors = [pal[col] if col >= 0 else (0.1, 0.1, 0.1) for col in test_labels]\n",
        "plt.scatter(reduced_features.T[0], reduced_features.T[1], c=test_colors, **plot_kwds);\n",
        "plt.scatter(*reduced_features.T, c=test_colors, s=80, linewidths=1, edgecolors='k')"
      ],
      "execution_count": null,
      "outputs": [
        {
          "output_type": "execute_result",
          "data": {
            "text/plain": [
              "<matplotlib.collections.PathCollection at 0x7f253748ea90>"
            ]
          },
          "metadata": {
            "tags": []
          },
          "execution_count": 8
        },
        {
          "output_type": "display_data",
          "data": {
            "image/png": "[encoded data removed]",
            "text/plain": [
              "<Figure size 432x288 with 1 Axes>"
            ]
          },
          "metadata": {
            "tags": [],
            "needs_background": "light"
          }
        }
      ]
    },
    {
      "cell_type": "code",
      "metadata": {
        "colab": {
          "base_uri": "https://localhost:8080/",
          "height": 235
        },
        "id": "nL0hYPht0Jgv",
        "outputId": "2c9804e0-14f3-4c6c-9794-a6ddf6f27b9a"
      },
      "source": [
        "from sklearn.mixture import GaussianMixture\n",
        "# define the model\n",
        "gaussian_model = GaussianMixture(n_components=2)\n",
        "\n",
        "# train the model\n",
        "gaussian_model.fit(reduced_features)\n",
        "\n",
        "# assign each data point to a cluster\n",
        "gaussian_result = gaussian_model.predict(reduced_features)\n",
        "\n",
        "# get all of the unique clusters\n",
        "gaussian_clusters = unique(gaussian_result)\n",
        "\n",
        "# plot Gaussian Mixture the clusters\n",
        "for gaussian_cluster in gaussian_clusters:\n",
        "    # get data points that fall in this cluster\n",
        "    index = where(gaussian_result == gaussian_clusters)\n",
        "    # make the plot\n",
        "    pyplot.scatter(reduced_features[index, 0], reduced_features[index, 1])\n",
        "\n",
        "# show the Gaussian Mixture plot\n",
        "pyplot.show()"
      ],
      "execution_count": null,
      "outputs": [
        {
          "output_type": "error",
          "ename": "NameError",
          "evalue": "ignored",
          "traceback": [
            "\u001b[0;31m---------------------------------------------------------------------------\u001b[0m",
            "\u001b[0;31mNameError\u001b[0m                                 Traceback (most recent call last)",
            "\u001b[0;32m<ipython-input-9-a36fe013b382>\u001b[0m in \u001b[0;36m<module>\u001b[0;34m()\u001b[0m\n\u001b[1;32m     15\u001b[0m \u001b[0;32mfor\u001b[0m \u001b[0mgaussian_cluster\u001b[0m \u001b[0;32min\u001b[0m \u001b[0mgaussian_clusters\u001b[0m\u001b[0;34m:\u001b[0m\u001b[0;34m\u001b[0m\u001b[0;34m\u001b[0m\u001b[0m\n\u001b[1;32m     16\u001b[0m     \u001b[0;31m# get data points that fall in this cluster\u001b[0m\u001b[0;34m\u001b[0m\u001b[0;34m\u001b[0m\u001b[0;34m\u001b[0m\u001b[0m\n\u001b[0;32m---> 17\u001b[0;31m     \u001b[0mindex\u001b[0m \u001b[0;34m=\u001b[0m \u001b[0mwhere\u001b[0m\u001b[0;34m(\u001b[0m\u001b[0mgaussian_result\u001b[0m \u001b[0;34m==\u001b[0m \u001b[0mgaussian_clusters\u001b[0m\u001b[0;34m)\u001b[0m\u001b[0;34m\u001b[0m\u001b[0;34m\u001b[0m\u001b[0m\n\u001b[0m\u001b[1;32m     18\u001b[0m     \u001b[0;31m# make the plot\u001b[0m\u001b[0;34m\u001b[0m\u001b[0;34m\u001b[0m\u001b[0;34m\u001b[0m\u001b[0m\n\u001b[1;32m     19\u001b[0m     \u001b[0mpyplot\u001b[0m\u001b[0;34m.\u001b[0m\u001b[0mscatter\u001b[0m\u001b[0;34m(\u001b[0m\u001b[0mreduced_features\u001b[0m\u001b[0;34m[\u001b[0m\u001b[0mindex\u001b[0m\u001b[0;34m,\u001b[0m \u001b[0;36m0\u001b[0m\u001b[0;34m]\u001b[0m\u001b[0;34m,\u001b[0m \u001b[0mreduced_features\u001b[0m\u001b[0;34m[\u001b[0m\u001b[0mindex\u001b[0m\u001b[0;34m,\u001b[0m \u001b[0;36m1\u001b[0m\u001b[0;34m]\u001b[0m\u001b[0;34m)\u001b[0m\u001b[0;34m\u001b[0m\u001b[0;34m\u001b[0m\u001b[0m\n",
            "\u001b[0;31mNameError\u001b[0m: name 'where' is not defined"
          ]
        }
      ]
    },
    {
      "cell_type": "code",
      "metadata": {
        "id": "AHj13BvsL7C9"
      },
      "source": [
        ""
      ],
      "execution_count": null,
      "outputs": []
    }
  ]
}