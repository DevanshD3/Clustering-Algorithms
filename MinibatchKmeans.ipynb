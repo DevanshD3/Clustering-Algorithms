{
  "nbformat": 4,
  "nbformat_minor": 0,
  "metadata": {
    "colab": {
      "name": "MinibatchKmeans.ipynb",
      "provenance": [],
      "authorship_tag": "ABX9TyOjTdF3siE3Dp8cHLlKWPyi",
      "include_colab_link": true
    },
    "kernelspec": {
      "name": "python3",
      "display_name": "Python 3"
    }
  },
  "cells": [
    {
      "cell_type": "markdown",
      "metadata": {
        "id": "view-in-github",
        "colab_type": "text"
      },
      "source": [
        "<a href=\"https://colab.research.google.com/github/DevanshD3/Clustering-Algorithms/blob/main/MinibatchKmeans.ipynb\" target=\"_parent\"><img src=\"https://colab.research.google.com/assets/colab-badge.svg\" alt=\"Open In Colab\"/></a>"
      ]
    },
    {
      "cell_type": "code",
      "metadata": {
        "id": "co4SheczBvn_"
      },
      "source": [
        "import pandas as pd\n",
        "import numpy as np\n",
        "from sklearn.cluster import MiniBatchKMeans\n",
        "from sklearn.feature_extraction.text import TfidfVectorizer\n",
        "from sklearn.decomposition import PCA\n",
        "import matplotlib.pyplot as plt"
      ],
      "execution_count": null,
      "outputs": []
    },
    {
      "cell_type": "code",
      "metadata": {
        "colab": {
          "base_uri": "https://localhost:8080/"
        },
        "id": "9lQDuC1NDPrG",
        "outputId": "cc2260dc-2117-4d05-a8fd-3eaf9bebb1a1"
      },
      "source": [
        "from google.colab import drive\n",
        "drive.mount('/content/drive')"
      ],
      "execution_count": null,
      "outputs": [
        {
          "output_type": "stream",
          "text": [
            "Drive already mounted at /content/drive; to attempt to forcibly remount, call drive.mount(\"/content/drive\", force_remount=True).\n"
          ],
          "name": "stdout"
        }
      ]
    },
    {
      "cell_type": "code",
      "metadata": {
        "colab": {
          "base_uri": "https://localhost:8080/",
          "height": 202
        },
        "id": "371H7F-fB5S0",
        "outputId": "3d64d491-f3d0-4a55-caaf-ca5d411f400d"
      },
      "source": [
        "from sklearn.datasets import load_files\n",
        "\n",
        "# for reproducibility\n",
        "random_state = 0 \n",
        "\n",
        "DATA_DIR = \"/content/drive/MyDrive/Data/CV.csv\"\n",
        "df = pd.read_csv(DATA_DIR, low_memory= False)\n",
        "df.head()\n"
      ],
      "execution_count": null,
      "outputs": [
        {
          "output_type": "execute_result",
          "data": {
            "text/html": [
              "<div>\n",
              "<style scoped>\n",
              "    .dataframe tbody tr th:only-of-type {\n",
              "        vertical-align: middle;\n",
              "    }\n",
              "\n",
              "    .dataframe tbody tr th {\n",
              "        vertical-align: top;\n",
              "    }\n",
              "\n",
              "    .dataframe thead th {\n",
              "        text-align: right;\n",
              "    }\n",
              "</style>\n",
              "<table border=\"1\" class=\"dataframe\">\n",
              "  <thead>\n",
              "    <tr style=\"text-align: right;\">\n",
              "      <th></th>\n",
              "      <th>Author ID</th>\n",
              "      <th>Modified Description</th>\n",
              "      <th>ID</th>\n",
              "    </tr>\n",
              "  </thead>\n",
              "  <tbody>\n",
              "    <tr>\n",
              "      <th>0</th>\n",
              "      <td>27348</td>\n",
              "      <td>Simple latch with two cross-coupled NOR gates.</td>\n",
              "      <td>137750</td>\n",
              "    </tr>\n",
              "    <tr>\n",
              "      <th>1</th>\n",
              "      <td>47272</td>\n",
              "      <td>Laboratorio. Sesión 3.FUNDAMENTOS DE COMPUTADORES</td>\n",
              "      <td>229813</td>\n",
              "    </tr>\n",
              "    <tr>\n",
              "      <th>2</th>\n",
              "      <td>36805</td>\n",
              "      <td>This is a 7 segment display.</td>\n",
              "      <td>249268</td>\n",
              "    </tr>\n",
              "    <tr>\n",
              "      <th>3</th>\n",
              "      <td>36489</td>\n",
              "      <td>Este bloque les servirá para el examen parcial</td>\n",
              "      <td>232819</td>\n",
              "    </tr>\n",
              "    <tr>\n",
              "      <th>4</th>\n",
              "      <td>30771</td>\n",
              "      <td>The external clock is directly connected to al...</td>\n",
              "      <td>249264</td>\n",
              "    </tr>\n",
              "  </tbody>\n",
              "</table>\n",
              "</div>"
            ],
            "text/plain": [
              "   Author ID                               Modified Description      ID\n",
              "0      27348     Simple latch with two cross-coupled NOR gates.  137750\n",
              "1      47272  Laboratorio. Sesión 3.FUNDAMENTOS DE COMPUTADORES  229813\n",
              "2      36805                       This is a 7 segment display.  249268\n",
              "3      36489     Este bloque les servirá para el examen parcial  232819\n",
              "4      30771  The external clock is directly connected to al...  249264"
            ]
          },
          "metadata": {
            "tags": []
          },
          "execution_count": 9
        }
      ]
    },
    {
      "cell_type": "code",
      "metadata": {
        "id": "cejP8W2bDNc4"
      },
      "source": [
        "vec = TfidfVectorizer(stop_words='english')\n",
        "df['Modified Description'] = df['Modified Description'].fillna('')\n",
        "vec_matrix = vec.fit_transform(df['Modified Description'])\n",
        "features = vec.transform(df['Modified Description'])"
      ],
      "execution_count": null,
      "outputs": []
    },
    {
      "cell_type": "code",
      "metadata": {
        "id": "pTWDnpFLIY1w",
        "colab": {
          "base_uri": "https://localhost:8080/"
        },
        "outputId": "a60e31c6-7713-46c1-d864-c92d72a70636"
      },
      "source": [
        "cls = MiniBatchKMeans(n_clusters=3, random_state=random_state)\n",
        "cls.fit(features)"
      ],
      "execution_count": null,
      "outputs": [
        {
          "output_type": "execute_result",
          "data": {
            "text/plain": [
              "MiniBatchKMeans(batch_size=100, compute_labels=True, init='k-means++',\n",
              "                init_size=None, max_iter=100, max_no_improvement=10,\n",
              "                n_clusters=3, n_init=3, random_state=0, reassignment_ratio=0.01,\n",
              "                tol=0.0, verbose=0)"
            ]
          },
          "metadata": {
            "tags": []
          },
          "execution_count": 25
        }
      ]
    },
    {
      "cell_type": "code",
      "metadata": {
        "id": "kVleMZFWJ8D8",
        "colab": {
          "base_uri": "https://localhost:8080/"
        },
        "outputId": "50fe6782-ed18-4f0d-d4af-99368d1eedb2"
      },
      "source": [
        "\n",
        "# predict cluster labels for new dataset\n",
        "cls.predict(features)\n",
        "\n",
        "# to get cluster labels for the dataset used while\n",
        "# training the model (used for models that does not\n",
        "# support prediction on new dataset).\n",
        "cls.labels_"
      ],
      "execution_count": null,
      "outputs": [
        {
          "output_type": "execute_result",
          "data": {
            "text/plain": [
              "array([0, 0, 0, ..., 0, 0, 0], dtype=int32)"
            ]
          },
          "metadata": {
            "tags": []
          },
          "execution_count": 26
        }
      ]
    },
    {
      "cell_type": "code",
      "metadata": {
        "id": "ojd6FpB5J_8P"
      },
      "source": [
        "# reduce the features to 2D\n",
        "pca = PCA(n_components=2, random_state=random_state)\n",
        "reduced_features = pca.fit_transform(features.toarray())\n",
        "\n",
        "# reduce the cluster centers to 2D\n",
        "reduced_cluster_centers = pca.transform(cls.cluster_centers_)"
      ],
      "execution_count": null,
      "outputs": []
    },
    {
      "cell_type": "code",
      "metadata": {
        "id": "RolNVgm6KKgZ",
        "colab": {
          "base_uri": "https://localhost:8080/",
          "height": 283
        },
        "outputId": "b1f9075c-9442-4254-b2e5-6db900aaeca8"
      },
      "source": [
        "plt.scatter(reduced_features[:,0], reduced_features[:,1], c=cls.predict(features))\n",
        "plt.scatter(reduced_cluster_centers[:, 0], reduced_cluster_centers[:,1], marker='x', s=10, c='r')"
      ],
      "execution_count": null,
      "outputs": [
        {
          "output_type": "execute_result",
          "data": {
            "text/plain": [
              "<matplotlib.collections.PathCollection at 0x7f9fd2381b50>"
            ]
          },
          "metadata": {
            "tags": []
          },
          "execution_count": 30
        },
        {
          "output_type": "display_data",
          "data": {
            "image/png": "[encoded data removed]",
            "text/plain": [
              "<Figure size 432x288 with 1 Axes>"
            ]
          },
          "metadata": {
            "tags": [],
            "needs_background": "light"
          }
        }
      ]
    },
    {
      "cell_type": "code",
      "metadata": {
        "id": "v5Xjmq4lK_yD"
      },
      "source": [
        ""
      ],
      "execution_count": null,
      "outputs": []
    }
  ]
}