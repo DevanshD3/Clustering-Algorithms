{
  "nbformat": 4,
  "nbformat_minor": 0,
  "metadata": {
    "colab": {
      "name": "Birch.ipynb",
      "provenance": [],
      "authorship_tag": "ABX9TyOYaKZ/QR7LrkzTkvp1ryac",
      "include_colab_link": true
    },
    "kernelspec": {
      "name": "python3",
      "display_name": "Python 3"
    },
    "language_info": {
      "name": "python"
    }
  },
  "cells": [
    {
      "cell_type": "markdown",
      "metadata": {
        "id": "view-in-github",
        "colab_type": "text"
      },
      "source": [
        "<a href=\"https://colab.research.google.com/github/DevanshD3/Clustering-Algorithms/blob/main/Birch.ipynb\" target=\"_parent\"><img src=\"https://colab.research.google.com/assets/colab-badge.svg\" alt=\"Open In Colab\"/></a>"
      ]
    },
    {
      "cell_type": "code",
      "metadata": {
        "colab": {
          "base_uri": "https://localhost:8080/"
        },
        "id": "geRiJNuI5Zno",
        "outputId": "a4cd1007-2e29-4e76-f298-41b5e8d604ac"
      },
      "source": [
        "from google.colab import drive\n",
        "drive.mount ('/content/drive')"
      ],
      "execution_count": null,
      "outputs": [
        {
          "output_type": "stream",
          "text": [
            "Mounted at /content/drive\n"
          ],
          "name": "stdout"
        }
      ]
    },
    {
      "cell_type": "code",
      "metadata": {
        "id": "53YlsjE16JU7"
      },
      "source": [
        "from sklearn.datasets import load_files\n",
        "import pandas as pd\n",
        "from sklearn.feature_extraction.text import TfidfVectorizer\n",
        "from sklearn.decomposition import PCA\n",
        "import matplotlib.pyplot as plt\n",
        "from sklearn.cluster import Birch"
      ],
      "execution_count": null,
      "outputs": []
    },
    {
      "cell_type": "code",
      "metadata": {
        "colab": {
          "base_uri": "https://localhost:8080/",
          "height": 202
        },
        "id": "JRX5dJp9545i",
        "outputId": "018fa427-ee9d-49ae-995a-ffc86e4fffac"
      },
      "source": [
        "\n",
        "# for reproducibility\n",
        "random_state = 0 \n",
        "\n",
        "DATA_DIR = \"/content/drive/MyDrive/Data/CV.csv\"\n",
        "df = pd.read_csv(DATA_DIR, low_memory= False)\n",
        "df.head()"
      ],
      "execution_count": null,
      "outputs": [
        {
          "output_type": "execute_result",
          "data": {
            "text/html": [
              "<div>\n",
              "<style scoped>\n",
              "    .dataframe tbody tr th:only-of-type {\n",
              "        vertical-align: middle;\n",
              "    }\n",
              "\n",
              "    .dataframe tbody tr th {\n",
              "        vertical-align: top;\n",
              "    }\n",
              "\n",
              "    .dataframe thead th {\n",
              "        text-align: right;\n",
              "    }\n",
              "</style>\n",
              "<table border=\"1\" class=\"dataframe\">\n",
              "  <thead>\n",
              "    <tr style=\"text-align: right;\">\n",
              "      <th></th>\n",
              "      <th>Author ID</th>\n",
              "      <th>Modified Description</th>\n",
              "      <th>ID</th>\n",
              "    </tr>\n",
              "  </thead>\n",
              "  <tbody>\n",
              "    <tr>\n",
              "      <th>0</th>\n",
              "      <td>27348</td>\n",
              "      <td>Simple latch with two cross-coupled NOR gates.</td>\n",
              "      <td>137750</td>\n",
              "    </tr>\n",
              "    <tr>\n",
              "      <th>1</th>\n",
              "      <td>47272</td>\n",
              "      <td>Laboratorio. Sesión 3.FUNDAMENTOS DE COMPUTADORES</td>\n",
              "      <td>229813</td>\n",
              "    </tr>\n",
              "    <tr>\n",
              "      <th>2</th>\n",
              "      <td>36805</td>\n",
              "      <td>This is a 7 segment display.</td>\n",
              "      <td>249268</td>\n",
              "    </tr>\n",
              "    <tr>\n",
              "      <th>3</th>\n",
              "      <td>36489</td>\n",
              "      <td>Este bloque les servirá para el examen parcial</td>\n",
              "      <td>232819</td>\n",
              "    </tr>\n",
              "    <tr>\n",
              "      <th>4</th>\n",
              "      <td>30771</td>\n",
              "      <td>The external clock is directly connected to al...</td>\n",
              "      <td>249264</td>\n",
              "    </tr>\n",
              "  </tbody>\n",
              "</table>\n",
              "</div>"
            ],
            "text/plain": [
              "   Author ID                               Modified Description      ID\n",
              "0      27348     Simple latch with two cross-coupled NOR gates.  137750\n",
              "1      47272  Laboratorio. Sesión 3.FUNDAMENTOS DE COMPUTADORES  229813\n",
              "2      36805                       This is a 7 segment display.  249268\n",
              "3      36489     Este bloque les servirá para el examen parcial  232819\n",
              "4      30771  The external clock is directly connected to al...  249264"
            ]
          },
          "metadata": {
            "tags": []
          },
          "execution_count": 3
        }
      ]
    },
    {
      "cell_type": "code",
      "metadata": {
        "colab": {
          "base_uri": "https://localhost:8080/"
        },
        "id": "Gel9w_rL6BQH",
        "outputId": "ed710f0a-6f0c-4496-9396-2c22421889b4"
      },
      "source": [
        "vec = TfidfVectorizer(stop_words='english')\n",
        "df['Modified Description'] = df['Modified Description'].fillna('')\n",
        "vec_matrix = vec.fit_transform(df['Modified Description'])\n",
        "features = vec.transform(df['Modified Description'])\n",
        "print(features)"
      ],
      "execution_count": null,
      "outputs": [
        {
          "output_type": "stream",
          "text": [
            "  (0, 9931)\t0.3227931164197924\n",
            "  (0, 6506)\t0.40802933946806075\n",
            "  (0, 5173)\t0.25773776809552934\n",
            "  (0, 3263)\t0.5611565857574715\n",
            "  (0, 3210)\t0.5899077820163157\n",
            "  (1, 9795)\t0.5201365271425246\n",
            "  (1, 6467)\t0.42967167566533615\n",
            "  (1, 5089)\t0.5634737543685681\n",
            "  (1, 2935)\t0.476799299916481\n",
            "  (2, 9670)\t0.7430862931318738\n",
            "  (2, 3940)\t0.6691956073970681\n",
            "  (3, 9791)\t0.4550963892643165\n",
            "  (3, 8092)\t0.36461795716737266\n",
            "  (3, 8082)\t0.244302462048003\n",
            "  (3, 6588)\t0.3533498829631091\n",
            "  (3, 4595)\t0.39183564968111356\n",
            "  (3, 4539)\t0.3236684347770153\n",
            "  (3, 4269)\t0.26231346757082874\n",
            "  (3, 2196)\t0.3850927183625514\n",
            "  (4, 11477)\t0.14436558388169132\n",
            "  (4, 10812)\t0.1821684703326401\n",
            "  (4, 10764)\t0.12804152439100075\n",
            "  (4, 10465)\t0.14092347226783963\n",
            "  (4, 10225)\t0.13382659950075762\n",
            "  (4, 9902)\t0.1595904952544354\n",
            "  :\t:\n",
            "  (6028, 11637)\t0.832091666124507\n",
            "  (6028, 5150)\t0.5546381335304505\n",
            "  (6029, 10118)\t0.5142487328997064\n",
            "  (6029, 9847)\t0.5142487328997064\n",
            "  (6029, 4215)\t0.34623771748932497\n",
            "  (6029, 315)\t0.2945575752224373\n",
            "  (6029, 85)\t0.5142487328997064\n",
            "  (6030, 6706)\t0.23741969731294338\n",
            "  (6030, 3755)\t0.4197212551602079\n",
            "  (6030, 748)\t0.4901389083233701\n",
            "  (6030, 411)\t0.5456115455856987\n",
            "  (6030, 402)\t0.47910108240926585\n",
            "  (6031, 11845)\t0.8270278138984715\n",
            "  (6031, 10687)\t0.5621610045514674\n",
            "  (6032, 8493)\t1.0\n",
            "  (6033, 7525)\t0.2098247538258764\n",
            "  (6033, 5978)\t0.6393074356928544\n",
            "  (6033, 3926)\t0.48749794472198554\n",
            "  (6033, 2693)\t0.36109511406561984\n",
            "  (6033, 2687)\t0.4233386916400554\n",
            "  (6034, 11277)\t0.4388297041481269\n",
            "  (6034, 9523)\t0.4595027052541706\n",
            "  (6034, 8378)\t0.4388297041481269\n",
            "  (6034, 6344)\t0.4388297041481269\n",
            "  (6034, 3377)\t0.4595027052541706\n"
          ],
          "name": "stdout"
        }
      ]
    },
    {
      "cell_type": "code",
      "metadata": {
        "id": "oSOqFwt36eRW"
      },
      "source": [
        "# reduce the features to 2D\n",
        "pca = PCA(n_components=2, random_state=random_state)\n",
        "reduced_features = pca.fit_transform(features.toarray())\n"
      ],
      "execution_count": null,
      "outputs": []
    },
    {
      "cell_type": "code",
      "metadata": {
        "colab": {
          "base_uri": "https://localhost:8080/"
        },
        "id": "F4qD7MdR2Hia",
        "outputId": "56ea7a5c-bb44-4ebd-ac49-264a53303afd"
      },
      "source": [
        "bclust=Birch(branching_factor=50,n_clusters=3,  threshold=3.5).fit(reduced_features)\n",
        "\n"
      ],
      "execution_count": null,
      "outputs": [
        {
          "output_type": "stream",
          "text": [
            "/usr/local/lib/python3.7/dist-packages/sklearn/cluster/_birch.py:638: ConvergenceWarning: Number of subclusters found (1) by Birch is less than (3). Decrease the threshold.\n",
            "  % (len(centroids), self.n_clusters), ConvergenceWarning)\n"
          ],
          "name": "stderr"
        }
      ]
    },
    {
      "cell_type": "code",
      "metadata": {
        "id": "oKhXZ9Ou597V"
      },
      "source": [
        "labels = bclust.predict(reduced_features)"
      ],
      "execution_count": null,
      "outputs": []
    },
    {
      "cell_type": "code",
      "metadata": {
        "colab": {
          "base_uri": "https://localhost:8080/",
          "height": 283
        },
        "id": "QsYVP2JW91HU",
        "outputId": "b63d1b1e-77f1-4932-8b9f-229420677345"
      },
      "source": [
        "plt.scatter(reduced_features[:,0], reduced_features[:,1], c=labels, alpha=0.7)"
      ],
      "execution_count": null,
      "outputs": [
        {
          "output_type": "execute_result",
          "data": {
            "text/plain": [
              "<matplotlib.collections.PathCollection at 0x7fa46de63990>"
            ]
          },
          "metadata": {
            "tags": []
          },
          "execution_count": 41
        },
        {
          "output_type": "display_data",
          "data": {
            "image/png": "[encoded data removed]",
            "text/plain": [
              "<Figure size 432x288 with 1 Axes>"
            ]
          },
          "metadata": {
            "tags": [],
            "needs_background": "light"
          }
        }
      ]
    },
    {
      "cell_type": "code",
      "metadata": {
        "id": "SjO_adoEAFlR"
      },
      "source": [
        ""
      ],
      "execution_count": null,
      "outputs": []
    }
  ]
}