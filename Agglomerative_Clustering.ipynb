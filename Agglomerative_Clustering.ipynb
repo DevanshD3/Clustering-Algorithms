{
  "nbformat": 4,
  "nbformat_minor": 0,
  "metadata": {
    "colab": {
      "name": "Agglomerative Clustering.ipynb",
      "provenance": [],
      "authorship_tag": "ABX9TyMF9VOGRhpVAljUMtuJdGzx",
      "include_colab_link": true
    },
    "kernelspec": {
      "name": "python3",
      "display_name": "Python 3"
    },
    "language_info": {
      "name": "python"
    }
  },
  "cells": [
    {
      "cell_type": "markdown",
      "metadata": {
        "id": "view-in-github",
        "colab_type": "text"
      },
      "source": [
        "<a href=\"https://colab.research.google.com/github/DevanshD3/Clustering-Algorithms/blob/main/Agglomerative_Clustering.ipynb\" target=\"_parent\"><img src=\"https://colab.research.google.com/assets/colab-badge.svg\" alt=\"Open In Colab\"/></a>"
      ]
    },
    {
      "cell_type": "code",
      "metadata": {
        "colab": {
          "base_uri": "https://localhost:8080/"
        },
        "id": "geRiJNuI5Zno",
        "outputId": "611cba09-f22a-4772-b217-871422d14219"
      },
      "source": [
        "from google.colab import drive\n",
        "drive.mount ('/content/drive')"
      ],
      "execution_count": null,
      "outputs": [
        {
          "output_type": "stream",
          "text": [
            "Mounted at /content/drive\n"
          ],
          "name": "stdout"
        }
      ]
    },
    {
      "cell_type": "code",
      "metadata": {
        "id": "53YlsjE16JU7"
      },
      "source": [
        "import pandas as pd\n",
        "import numpy as np\n",
        "from matplotlib import pyplot as plt\n",
        "from sklearn.cluster import AgglomerativeClustering\n",
        "import scipy.cluster.hierarchy as sch\n",
        "from sklearn.feature_extraction.text import TfidfVectorizer\n",
        "from sklearn.decomposition import PCA"
      ],
      "execution_count": null,
      "outputs": []
    },
    {
      "cell_type": "code",
      "metadata": {
        "colab": {
          "base_uri": "https://localhost:8080/",
          "height": 202
        },
        "id": "JRX5dJp9545i",
        "outputId": "be5040fc-0063-4bf0-fbd9-07c87081bf90"
      },
      "source": [
        "\n",
        "# for reproducibility\n",
        "random_state = 0 \n",
        "\n",
        "DATA_DIR = \"/content/drive/MyDrive/Data/CV.csv\"\n",
        "df = pd.read_csv(DATA_DIR, low_memory= False)\n",
        "df.head()"
      ],
      "execution_count": null,
      "outputs": [
        {
          "output_type": "execute_result",
          "data": {
            "text/html": [
              "<div>\n",
              "<style scoped>\n",
              "    .dataframe tbody tr th:only-of-type {\n",
              "        vertical-align: middle;\n",
              "    }\n",
              "\n",
              "    .dataframe tbody tr th {\n",
              "        vertical-align: top;\n",
              "    }\n",
              "\n",
              "    .dataframe thead th {\n",
              "        text-align: right;\n",
              "    }\n",
              "</style>\n",
              "<table border=\"1\" class=\"dataframe\">\n",
              "  <thead>\n",
              "    <tr style=\"text-align: right;\">\n",
              "      <th></th>\n",
              "      <th>Author ID</th>\n",
              "      <th>Modified Description</th>\n",
              "      <th>ID</th>\n",
              "    </tr>\n",
              "  </thead>\n",
              "  <tbody>\n",
              "    <tr>\n",
              "      <th>0</th>\n",
              "      <td>27348</td>\n",
              "      <td>Simple latch with two cross-coupled NOR gates.</td>\n",
              "      <td>137750</td>\n",
              "    </tr>\n",
              "    <tr>\n",
              "      <th>1</th>\n",
              "      <td>47272</td>\n",
              "      <td>Laboratorio. Sesión 3.FUNDAMENTOS DE COMPUTADORES</td>\n",
              "      <td>229813</td>\n",
              "    </tr>\n",
              "    <tr>\n",
              "      <th>2</th>\n",
              "      <td>36805</td>\n",
              "      <td>This is a 7 segment display.</td>\n",
              "      <td>249268</td>\n",
              "    </tr>\n",
              "    <tr>\n",
              "      <th>3</th>\n",
              "      <td>36489</td>\n",
              "      <td>Este bloque les servirá para el examen parcial</td>\n",
              "      <td>232819</td>\n",
              "    </tr>\n",
              "    <tr>\n",
              "      <th>4</th>\n",
              "      <td>30771</td>\n",
              "      <td>The external clock is directly connected to al...</td>\n",
              "      <td>249264</td>\n",
              "    </tr>\n",
              "  </tbody>\n",
              "</table>\n",
              "</div>"
            ],
            "text/plain": [
              "   Author ID                               Modified Description      ID\n",
              "0      27348     Simple latch with two cross-coupled NOR gates.  137750\n",
              "1      47272  Laboratorio. Sesión 3.FUNDAMENTOS DE COMPUTADORES  229813\n",
              "2      36805                       This is a 7 segment display.  249268\n",
              "3      36489     Este bloque les servirá para el examen parcial  232819\n",
              "4      30771  The external clock is directly connected to al...  249264"
            ]
          },
          "metadata": {
            "tags": []
          },
          "execution_count": 7
        }
      ]
    },
    {
      "cell_type": "code",
      "metadata": {
        "id": "Gel9w_rL6BQH"
      },
      "source": [
        "vec = TfidfVectorizer(stop_words='english')\n",
        "df['Modified Description'] = df['Modified Description'].fillna('')\n",
        "vec_matrix = vec.fit_transform(df['Modified Description'])\n",
        "features = vec.transform(df['Modified Description'])\n"
      ],
      "execution_count": null,
      "outputs": []
    },
    {
      "cell_type": "code",
      "metadata": {
        "id": "oSOqFwt36eRW"
      },
      "source": [
        "# reduce the features to 2D\n",
        "pca = PCA(n_components=2, random_state=random_state)\n",
        "reduced_features = pca.fit_transform(features.toarray())\n"
      ],
      "execution_count": null,
      "outputs": []
    },
    {
      "cell_type": "code",
      "metadata": {
        "id": "SjO_adoEAFlR"
      },
      "source": [
        "model = AgglomerativeClustering(n_clusters=5, affinity='euclidean', linkage='complete')\n",
        "model.fit(reduced_features)\n",
        "labels = model.labels_"
      ],
      "execution_count": null,
      "outputs": []
    },
    {
      "cell_type": "code",
      "metadata": {
        "colab": {
          "base_uri": "https://localhost:8080/"
        },
        "id": "SRs4MefDpB6E",
        "outputId": "8b730d48-1365-4c7e-b181-8a5bc5af48f3"
      },
      "source": [
        "model.fit_predict(reduced_features)"
      ],
      "execution_count": null,
      "outputs": [
        {
          "output_type": "execute_result",
          "data": {
            "text/plain": [
              "array([0, 0, 0, ..., 0, 4, 0])"
            ]
          },
          "metadata": {
            "tags": []
          },
          "execution_count": 12
        }
      ]
    },
    {
      "cell_type": "code",
      "metadata": {
        "id": "j9T0tIkupOiy",
        "colab": {
          "base_uri": "https://localhost:8080/",
          "height": 283
        },
        "outputId": "0ce669c7-56ac-4f52-a23e-bea6bf3c91a8"
      },
      "source": [
        "plt.scatter(reduced_features[:,0],reduced_features[:,1], c=model.labels_, cmap='rainbow')"
      ],
      "execution_count": null,
      "outputs": [
        {
          "output_type": "execute_result",
          "data": {
            "text/plain": [
              "<matplotlib.collections.PathCollection at 0x7fd19944e6d0>"
            ]
          },
          "metadata": {
            "tags": []
          },
          "execution_count": 14
        },
        {
          "output_type": "display_data",
          "data": {
            "image/png": "[encoded data removed]",
            "text/plain": [
              "<Figure size 432x288 with 1 Axes>"
            ]
          },
          "metadata": {
            "tags": [],
            "needs_background": "light"
          }
        }
      ]
    },
    {
      "cell_type": "code",
      "metadata": {
        "id": "sglGbhsVrXl5"
      },
      "source": [
        ""
      ],
      "execution_count": null,
      "outputs": []
    }
  ]
}